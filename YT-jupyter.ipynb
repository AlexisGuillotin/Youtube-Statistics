{
 "cells": [
  {
   "cell_type": "markdown",
   "id": "e51e8f9c",
   "metadata": {},
   "source": [
    "# Project statistics Youtube"
   ]
  },
  {
   "cell_type": "markdown",
   "id": "1c01ed2d",
   "metadata": {},
   "source": [
    "## Imports used"
   ]
  },
  {
   "cell_type": "code",
   "execution_count": 1,
   "id": "b77de7b6",
   "metadata": {},
   "outputs": [],
   "source": [
    "import json\n",
    "from pytube import YouTube\n",
    "import matplotlib.pyplot as plt\n",
    "from prettytable import PrettyTable"
   ]
  },
  {
   "cell_type": "markdown",
   "id": "699817c1",
   "metadata": {},
   "source": [
    "## All methods used"
   ]
  },
  {
   "cell_type": "code",
   "execution_count": 2,
   "id": "bfe0d8b5",
   "metadata": {},
   "outputs": [],
   "source": [
    "def get_video_duration(video_url):\n",
    "    try:\n",
    "        yt = YouTube(video_url)\n",
    "        duration_sec = yt.length\n",
    "        return duration_sec\n",
    "    except Exception as e:\n",
    "        print(f\"Error fetching duration for {video_url}: {e}\")\n",
    "        return 0\n",
    "    \n",
    "def calculate_nb_videos(json_data):\n",
    "    return len(json_data)\n",
    "\n",
    "def calculate_total_watch_time(json_data):\n",
    "    total_watch_time_seconds = 0\n",
    "\n",
    "    # Iterate through each video entry in the JSON data\n",
    "    channels = {}\n",
    "    new_json = []\n",
    "    for entry in json_data:\n",
    "        if 'subtitles' in entry and 'titleUrl' in entry:\n",
    "            # Extract the duration from the subtitles (assuming it's available)\n",
    "            url = entry['titleUrl']\n",
    "            duration = get_video_duration(url)\n",
    "            # Convert the duration to seconds and add to the total\n",
    "            total_watch_time_seconds += duration\n",
    "            # top channel watching time\n",
    "            channel = entry['subtitles'][0]['name']\n",
    "            if channel in channels:\n",
    "                channels[channel] +=duration\n",
    "            else:\n",
    "                channels[channel] = duration\n",
    "            # create new json\n",
    "            video = {}\n",
    "            video['title'] = entry['title'][18:]\n",
    "            video['channel'] = entry['subtitles'][0]['name']\n",
    "            video['duration'] = duration\n",
    "            video['time'] = entry['time'][:10]\n",
    "            new_json.append(video)\n",
    "\n",
    "    # Convert the total watch time to hours\n",
    "    total_watch_time_hours = total_watch_time_seconds / 3600\n",
    "\n",
    "    return total_watch_time_hours, channels, new_json\n",
    "\n",
    "def to_table(channels):\n",
    "\n",
    "    # Conversion du temps de secondes en heures\n",
    "    temps_en_heures = {chaine: temps / 3600 for chaine, temps in channels.items()}\n",
    "\n",
    "    # Tri des chaînes en fonction du temps passé\n",
    "    chaînes_triées = sorted(temps_en_heures.items(), key=lambda x: x[1], reverse=True)\n",
    "\n",
    "    # Séparation des noms de chaînes et des temps\n",
    "    noms_chaines, temps_passé = zip(*chaînes_triées)\n",
    "\n",
    "    # Création du tableau\n",
    "    table = PrettyTable()\n",
    "    table.field_names = [\"Chaîne\", \"Temps passé (heures)\"]\n",
    "\n",
    "    for chaîne, temps in chaînes_triées:\n",
    "        table.add_row([chaîne, f\"{temps:.2f}\"])\n",
    "\n",
    "    return table"
   ]
  },
  {
   "cell_type": "code",
   "execution_count": 3,
   "id": "86845045",
   "metadata": {},
   "outputs": [
    {
     "name": "stdout",
     "output_type": "stream",
     "text": [
      "Total Watch Time: 8.91 hours\n",
      "Nombre de vidéos regardées: 9\n"
     ]
    }
   ],
   "source": [
    "\n",
    "# Specify the path to your YouTube watch history JSON file\n",
    "file_path = 'ressources/watch-history.json'\n",
    "\n",
    "try:\n",
    "    # Load the JSON data\n",
    "    with open(file_path, 'r', encoding='utf-8') as file:\n",
    "        data = json.load(file)\n",
    "\n",
    "    # Calculate the total watch time\n",
    "    total_watch_time, channels, new_json = calculate_total_watch_time(data)\n",
    "\n",
    "    print(f'Total Watch Time: {total_watch_time:.2f} hours')\n",
    "        \n",
    "    # Calculate number of videos watched\n",
    "    nb_videos = calculate_nb_videos(data)\n",
    "    print(f\"Nombre de vidéos regardées: {nb_videos}\")\n",
    "\n",
    "    # show diagram\n",
    "    table = to_table(channels)\n",
    "        \n",
    "except FileNotFoundError:\n",
    "    print(f'Error: File not found at {file_path}')\n",
    "except Exception as e:\n",
    "    print(f'An error occurred: {e}')"
   ]
  },
  {
   "cell_type": "code",
   "execution_count": 4,
   "id": "06e90fd1",
   "metadata": {},
   "outputs": [],
   "source": [
    "with open('data.json', 'w', encoding='utf-8') as f:\n",
    "    json.dump(new_json, f, ensure_ascii=False, indent=4)"
   ]
  },
  {
   "cell_type": "code",
   "execution_count": null,
   "id": "a454cafe",
   "metadata": {},
   "outputs": [],
   "source": []
  },
  {
   "cell_type": "code",
   "execution_count": null,
   "id": "7e7affd8",
   "metadata": {},
   "outputs": [],
   "source": []
  }
 ],
 "metadata": {
  "kernelspec": {
   "display_name": "Python 3 (ipykernel)",
   "language": "python",
   "name": "python3"
  },
  "language_info": {
   "codemirror_mode": {
    "name": "ipython",
    "version": 3
   },
   "file_extension": ".py",
   "mimetype": "text/x-python",
   "name": "python",
   "nbconvert_exporter": "python",
   "pygments_lexer": "ipython3",
   "version": "3.7.6"
  }
 },
 "nbformat": 4,
 "nbformat_minor": 5
}
